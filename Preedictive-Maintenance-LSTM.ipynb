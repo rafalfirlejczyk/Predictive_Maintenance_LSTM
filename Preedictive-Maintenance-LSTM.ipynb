{
 "cells": [
  {
   "cell_type": "markdown",
   "metadata": {},
   "source": [
    "# Predictive maintenance"
   ]
  },
  {
   "cell_type": "markdown",
   "metadata": {},
   "source": [
    "A fleet of machines is transmitting daily aggregated telemetry data. \n",
    "Aa sample dataset with machine events statistics is partitioned by day and contains the machine serial number, a boolean that indicates if the machine breaks (event=1) on that specific day or not (event=0) and (9) features that characterize the machine."
   ]
  },
  {
   "cell_type": "markdown",
   "metadata": {},
   "source": [
    "## 1. Overview"
   ]
  },
  {
   "cell_type": "markdown",
   "metadata": {},
   "source": [
    "Using the given dataset, I will build and tune the LSTM model that will try to predict which machine breaks down - \"1-event\". \n",
    "I will follow the ML way:\n",
    "- analyze the given dataset to understand its complexity and if possible reduce its complexity \n",
    "- analyze event distribution and its correlation to features in order to chose best feature set for the given task \n",
    "- do necessairy Feature Engineering based on analyzes\n",
    "- prepare training and dataset\n",
    "- build the LSTM model\n",
    "- define training parameters and performance measures. My goal would be to minimize false positives and false negatives \n",
    "- train/tune model(s)\n",
    "- evaluate model(s)"
   ]
  },
  {
   "cell_type": "markdown",
   "metadata": {},
   "source": [
    "## 2. Import Libraries and Load Data\n"
   ]
  },
  {
   "cell_type": "markdown",
   "metadata": {},
   "source": [
    "I will import python libraries which I will need for this task. "
   ]
  },
  {
   "cell_type": "markdown",
   "metadata": {},
   "source": [
    "### 2.1 Libraries"
   ]
  },
  {
   "cell_type": "code",
   "execution_count": 1,
   "metadata": {},
   "outputs": [],
   "source": [
    "# import the libraries\n",
    "import pandas as pd\n",
    "import numpy as np\n",
    "import matplotlib.pyplot as plt\n",
    "import keras\n",
    "import h5py\n",
    "import os\n",
    "\n",
    "\n",
    "from sklearn.metrics import confusion_matrix, recall_score, precision_score\n",
    "from keras.models import Sequential\n",
    "from sklearn import datasets\n",
    "from keras.layers import Dense, Dropout, LSTM, Activation\n",
    "\n"
   ]
  },
  {
   "cell_type": "markdown",
   "metadata": {},
   "source": [
    "## 3. Exploring Data "
   ]
  },
  {
   "cell_type": "markdown",
   "metadata": {},
   "source": [
    "The only file containing dataset is machine_breakdown.csv. I will read it as panda's Data Frame, sort and plot first and last 5 rows"
   ]
  },
  {
   "cell_type": "code",
   "execution_count": 2,
   "metadata": {},
   "outputs": [],
   "source": [
    "df = pd.read_csv('machine_breakdown.csv')"
   ]
  },
  {
   "cell_type": "code",
   "execution_count": 3,
   "metadata": {},
   "outputs": [],
   "source": [
    "df = df.sort_values(by=['machine','date'])"
   ]
  },
  {
   "cell_type": "code",
   "execution_count": 4,
   "metadata": {},
   "outputs": [
    {
     "data": {
      "text/html": [
       "<div>\n",
       "<style scoped>\n",
       "    .dataframe tbody tr th:only-of-type {\n",
       "        vertical-align: middle;\n",
       "    }\n",
       "\n",
       "    .dataframe tbody tr th {\n",
       "        vertical-align: top;\n",
       "    }\n",
       "\n",
       "    .dataframe thead th {\n",
       "        text-align: right;\n",
       "    }\n",
       "</style>\n",
       "<table border=\"1\" class=\"dataframe\">\n",
       "  <thead>\n",
       "    <tr style=\"text-align: right;\">\n",
       "      <th></th>\n",
       "      <th>date</th>\n",
       "      <th>machine</th>\n",
       "      <th>event</th>\n",
       "      <th>feature1</th>\n",
       "      <th>feature2</th>\n",
       "      <th>feature3</th>\n",
       "      <th>feature4</th>\n",
       "      <th>feature5</th>\n",
       "      <th>feature6</th>\n",
       "      <th>feature7</th>\n",
       "      <th>feature8</th>\n",
       "      <th>feature9</th>\n",
       "    </tr>\n",
       "  </thead>\n",
       "  <tbody>\n",
       "    <tr>\n",
       "      <th>0</th>\n",
       "      <td>2015-01-01</td>\n",
       "      <td>S1F01085</td>\n",
       "      <td>0</td>\n",
       "      <td>0</td>\n",
       "      <td>7</td>\n",
       "      <td>407438</td>\n",
       "      <td>215630672</td>\n",
       "      <td>6</td>\n",
       "      <td>0</td>\n",
       "      <td>52</td>\n",
       "      <td>56</td>\n",
       "      <td>0.0</td>\n",
       "    </tr>\n",
       "    <tr>\n",
       "      <th>1163</th>\n",
       "      <td>2015-01-02</td>\n",
       "      <td>S1F01085</td>\n",
       "      <td>0</td>\n",
       "      <td>0</td>\n",
       "      <td>7</td>\n",
       "      <td>407438</td>\n",
       "      <td>1650864</td>\n",
       "      <td>6</td>\n",
       "      <td>0</td>\n",
       "      <td>52</td>\n",
       "      <td>56</td>\n",
       "      <td>0.0</td>\n",
       "    </tr>\n",
       "    <tr>\n",
       "      <th>2326</th>\n",
       "      <td>2015-01-03</td>\n",
       "      <td>S1F01085</td>\n",
       "      <td>0</td>\n",
       "      <td>0</td>\n",
       "      <td>7</td>\n",
       "      <td>407438</td>\n",
       "      <td>124017368</td>\n",
       "      <td>6</td>\n",
       "      <td>0</td>\n",
       "      <td>52</td>\n",
       "      <td>56</td>\n",
       "      <td>0.0</td>\n",
       "    </tr>\n",
       "    <tr>\n",
       "      <th>3489</th>\n",
       "      <td>2015-01-04</td>\n",
       "      <td>S1F01085</td>\n",
       "      <td>0</td>\n",
       "      <td>0</td>\n",
       "      <td>7</td>\n",
       "      <td>407439</td>\n",
       "      <td>128073224</td>\n",
       "      <td>6</td>\n",
       "      <td>0</td>\n",
       "      <td>52</td>\n",
       "      <td>56</td>\n",
       "      <td>0.0</td>\n",
       "    </tr>\n",
       "    <tr>\n",
       "      <th>4651</th>\n",
       "      <td>2015-01-05</td>\n",
       "      <td>S1F01085</td>\n",
       "      <td>0</td>\n",
       "      <td>0</td>\n",
       "      <td>7</td>\n",
       "      <td>408114</td>\n",
       "      <td>97393448</td>\n",
       "      <td>6</td>\n",
       "      <td>0</td>\n",
       "      <td>52</td>\n",
       "      <td>56</td>\n",
       "      <td>0.0</td>\n",
       "    </tr>\n",
       "    <tr>\n",
       "      <th>...</th>\n",
       "      <td>...</td>\n",
       "      <td>...</td>\n",
       "      <td>...</td>\n",
       "      <td>...</td>\n",
       "      <td>...</td>\n",
       "      <td>...</td>\n",
       "      <td>...</td>\n",
       "      <td>...</td>\n",
       "      <td>...</td>\n",
       "      <td>...</td>\n",
       "      <td>...</td>\n",
       "      <td>...</td>\n",
       "    </tr>\n",
       "    <tr>\n",
       "      <th>65334</th>\n",
       "      <td>2015-04-02</td>\n",
       "      <td>Z1F2PBHX</td>\n",
       "      <td>0</td>\n",
       "      <td>0</td>\n",
       "      <td>0</td>\n",
       "      <td>162645</td>\n",
       "      <td>180917784</td>\n",
       "      <td>5</td>\n",
       "      <td>0</td>\n",
       "      <td>0</td>\n",
       "      <td>0</td>\n",
       "      <td>0.0</td>\n",
       "    </tr>\n",
       "    <tr>\n",
       "      <th>65819</th>\n",
       "      <td>2015-04-03</td>\n",
       "      <td>Z1F2PBHX</td>\n",
       "      <td>0</td>\n",
       "      <td>0</td>\n",
       "      <td>0</td>\n",
       "      <td>162645</td>\n",
       "      <td>33952520</td>\n",
       "      <td>5</td>\n",
       "      <td>0</td>\n",
       "      <td>0</td>\n",
       "      <td>0</td>\n",
       "      <td>0.0</td>\n",
       "    </tr>\n",
       "    <tr>\n",
       "      <th>66304</th>\n",
       "      <td>2015-04-04</td>\n",
       "      <td>Z1F2PBHX</td>\n",
       "      <td>0</td>\n",
       "      <td>0</td>\n",
       "      <td>0</td>\n",
       "      <td>162645</td>\n",
       "      <td>59053184</td>\n",
       "      <td>5</td>\n",
       "      <td>0</td>\n",
       "      <td>0</td>\n",
       "      <td>0</td>\n",
       "      <td>0.0</td>\n",
       "    </tr>\n",
       "    <tr>\n",
       "      <th>66789</th>\n",
       "      <td>2015-04-05</td>\n",
       "      <td>Z1F2PBHX</td>\n",
       "      <td>0</td>\n",
       "      <td>0</td>\n",
       "      <td>0</td>\n",
       "      <td>163047</td>\n",
       "      <td>110545440</td>\n",
       "      <td>5</td>\n",
       "      <td>0</td>\n",
       "      <td>0</td>\n",
       "      <td>0</td>\n",
       "      <td>0.0</td>\n",
       "    </tr>\n",
       "    <tr>\n",
       "      <th>67274</th>\n",
       "      <td>2015-04-06</td>\n",
       "      <td>Z1F2PBHX</td>\n",
       "      <td>0</td>\n",
       "      <td>0</td>\n",
       "      <td>0</td>\n",
       "      <td>164020</td>\n",
       "      <td>130522432</td>\n",
       "      <td>5</td>\n",
       "      <td>0</td>\n",
       "      <td>0</td>\n",
       "      <td>0</td>\n",
       "      <td>0.0</td>\n",
       "    </tr>\n",
       "  </tbody>\n",
       "</table>\n",
       "<p>124494 rows × 12 columns</p>\n",
       "</div>"
      ],
      "text/plain": [
       "             date   machine  event  feature1  feature2  feature3   feature4  \\\n",
       "0      2015-01-01  S1F01085      0         0         7    407438  215630672   \n",
       "1163   2015-01-02  S1F01085      0         0         7    407438    1650864   \n",
       "2326   2015-01-03  S1F01085      0         0         7    407438  124017368   \n",
       "3489   2015-01-04  S1F01085      0         0         7    407439  128073224   \n",
       "4651   2015-01-05  S1F01085      0         0         7    408114   97393448   \n",
       "...           ...       ...    ...       ...       ...       ...        ...   \n",
       "65334  2015-04-02  Z1F2PBHX      0         0         0    162645  180917784   \n",
       "65819  2015-04-03  Z1F2PBHX      0         0         0    162645   33952520   \n",
       "66304  2015-04-04  Z1F2PBHX      0         0         0    162645   59053184   \n",
       "66789  2015-04-05  Z1F2PBHX      0         0         0    163047  110545440   \n",
       "67274  2015-04-06  Z1F2PBHX      0         0         0    164020  130522432   \n",
       "\n",
       "       feature5  feature6  feature7  feature8  feature9  \n",
       "0             6         0        52        56       0.0  \n",
       "1163          6         0        52        56       0.0  \n",
       "2326          6         0        52        56       0.0  \n",
       "3489          6         0        52        56       0.0  \n",
       "4651          6         0        52        56       0.0  \n",
       "...         ...       ...       ...       ...       ...  \n",
       "65334         5         0         0         0       0.0  \n",
       "65819         5         0         0         0       0.0  \n",
       "66304         5         0         0         0       0.0  \n",
       "66789         5         0         0         0       0.0  \n",
       "67274         5         0         0         0       0.0  \n",
       "\n",
       "[124494 rows x 12 columns]"
      ]
     },
     "execution_count": 4,
     "metadata": {},
     "output_type": "execute_result"
    }
   ],
   "source": [
    "df"
   ]
  },
  {
   "cell_type": "markdown",
   "metadata": {},
   "source": [
    "There are 12 columns. First column (data) is our date stamp followed by machine, which is defining the SN of the machine. Third is event - our outcome defined as 0 - for no event and 1 - for event occured. Last 9 columns represent telemetry data of 9 sensors deliver daily. One row of data per one observed machine daily"
   ]
  },
  {
   "cell_type": "markdown",
   "metadata": {},
   "source": [
    "Do we have missing data in the dataset? Co called \"nands\" need to be localized and \"neutralized\" to prevent errors"
   ]
  },
  {
   "cell_type": "code",
   "execution_count": 5,
   "metadata": {},
   "outputs": [
    {
     "data": {
      "text/plain": [
       "date        0\n",
       "machine     0\n",
       "event       0\n",
       "feature1    0\n",
       "feature2    0\n",
       "feature3    0\n",
       "feature4    0\n",
       "feature5    0\n",
       "feature6    0\n",
       "feature7    0\n",
       "feature8    0\n",
       "feature9    0\n",
       "dtype: int64"
      ]
     },
     "execution_count": 5,
     "metadata": {},
     "output_type": "execute_result"
    }
   ],
   "source": [
    "# Are there missing values in  dataset?\n",
    "df.isnull().sum()"
   ]
  },
  {
   "cell_type": "markdown",
   "metadata": {},
   "source": [
    "There are no missing values in the dataset! Now let us check how many unique machines do we observe and how many 1-events vs 0-events are there in the dataset"
   ]
  },
  {
   "cell_type": "code",
   "execution_count": 6,
   "metadata": {},
   "outputs": [
    {
     "data": {
      "text/plain": [
       "1168"
      ]
     },
     "execution_count": 6,
     "metadata": {},
     "output_type": "execute_result"
    }
   ],
   "source": [
    "# How many unique machines are there in the dataset?\n",
    "len(df['machine'].unique())"
   ]
  },
  {
   "cell_type": "code",
   "execution_count": 7,
   "metadata": {},
   "outputs": [
    {
     "data": {
      "text/plain": [
       "0    124388\n",
       "1       106\n",
       "Name: event, dtype: int64"
      ]
     },
     "execution_count": 7,
     "metadata": {},
     "output_type": "execute_result"
    }
   ],
   "source": [
    "# How many 0-events are there in the dataset. We may think about them as machine is \"working normally\" - no failures\"\n",
    "# How many 1-events are here in the dataset. This event we may describe as machine failure\n",
    "df['event'].value_counts()"
   ]
  },
  {
   "cell_type": "markdown",
   "metadata": {},
   "source": [
    "There are less than 0.1% of 1-events. Dataset is extreemly imbalanced."
   ]
  },
  {
   "cell_type": "code",
   "execution_count": 8,
   "metadata": {},
   "outputs": [
    {
     "data": {
      "image/png": "[encoded data removed]",
      "text/plain": [
       "<Figure size 432x288 with 1 Axes>"
      ]
     },
     "metadata": {
      "needs_background": "light"
     },
     "output_type": "display_data"
    },
    {
     "data": {
      "image/png": "[encoded data removed]",
      "text/plain": [
       "<Figure size 432x288 with 1 Axes>"
      ]
     },
     "metadata": {
      "needs_background": "light"
     },
     "output_type": "display_data"
    },
    {
     "data": {
      "image/png": "[encoded data removed]",
      "text/plain": [
       "<Figure size 432x288 with 1 Axes>"
      ]
     },
     "metadata": {
      "needs_background": "light"
     },
     "output_type": "display_data"
    },
    {
     "data": {
      "image/png": "[encoded data removed]",
      "text/plain": [
       "<Figure size 432x288 with 1 Axes>"
      ]
     },
     "metadata": {
      "needs_background": "light"
     },
     "output_type": "display_data"
    },
    {
     "data": {
      "image/png": "[encoded data removed]",
      "text/plain": [
       "<Figure size 432x288 with 1 Axes>"
      ]
     },
     "metadata": {
      "needs_background": "light"
     },
     "output_type": "display_data"
    },
    {
     "data": {
      "image/png": "[encoded data removed]",
      "text/plain": [
       "<Figure size 432x288 with 1 Axes>"
      ]
     },
     "metadata": {
      "needs_background": "light"
     },
     "output_type": "display_data"
    },
    {
     "data": {
      "image/png": "[encoded data removed]",
      "text/plain": [
       "<Figure size 432x288 with 1 Axes>"
      ]
     },
     "metadata": {
      "needs_background": "light"
     },
     "output_type": "display_data"
    },
    {
     "data": {
      "image/png": "[encoded data removed]",
      "text/plain": [
       "<Figure size 432x288 with 1 Axes>"
      ]
     },
     "metadata": {
      "needs_background": "light"
     },
     "output_type": "display_data"
    },
    {
     "data": {
      "image/png": "[encoded data removed]",
      "text/plain": [
       "<Figure size 432x288 with 1 Axes>"
      ]
     },
     "metadata": {
      "needs_background": "light"
     },
     "output_type": "display_data"
    }
   ],
   "source": [
    "#Plotting the histograms of Features\n",
    "for name in ['feature1','feature2','feature3','feature4','feature5','feature6','feature7','feature8','feature9']:\n",
    "    df.hist(column=[name], log=True, bins=500)"
   ]
  },
  {
   "cell_type": "code",
   "execution_count": 9,
   "metadata": {},
   "outputs": [
    {
     "data": {
      "image/png": "[encoded data removed]",
      "text/plain": [
       "<Figure size 1368x1080 with 2 Axes>"
      ]
     },
     "metadata": {
      "needs_background": "light"
     },
     "output_type": "display_data"
    }
   ],
   "source": [
    "#Plotting the correlation matrix of features and event\n",
    "f = plt.figure(figsize=(19, 15))\n",
    "plt.matshow(df.corr(), fignum=f.number)\n",
    "plt.xticks(range(df.select_dtypes(['number']).shape[1]), df.select_dtypes(['number']).columns, fontsize=14, rotation=45)\n",
    "plt.yticks(range(df.select_dtypes(['number']).shape[1]), df.select_dtypes(['number']).columns, fontsize=14)\n",
    "cb = plt.colorbar()\n",
    "cb.ax.tick_params(labelsize=14)"
   ]
  },
  {
   "cell_type": "markdown",
   "metadata": {},
   "source": [
    "Feature 6 and Feature 9 are 100% correlated. We can later delete Feature 9"
   ]
  },
  {
   "cell_type": "markdown",
   "metadata": {},
   "source": [
    "## 4. Data processing"
   ]
  },
  {
   "cell_type": "markdown",
   "metadata": {},
   "source": [
    "To prepare the data I had to calculate the RUL column (Rest Useful Life) indicating the number of days before the event=1. I will also delete machines which reported for less than 10 days, what is too short to have a valuable observation."
   ]
  },
  {
   "cell_type": "code",
   "execution_count": 10,
   "metadata": {},
   "outputs": [],
   "source": [
    "short = 10 # how short can be the sequence of consecutive reporting days of the machine\n",
    "RUL_noFailure = 365 # value for RUL when no failure were registered"
   ]
  },
  {
   "cell_type": "code",
   "execution_count": 11,
   "metadata": {},
   "outputs": [],
   "source": [
    "df_max_date = df.groupby('machine').agg({'date':max})\n",
    "df_min_date = df.groupby('machine').agg({'date':min})"
   ]
  },
  {
   "cell_type": "code",
   "execution_count": 12,
   "metadata": {},
   "outputs": [],
   "source": [
    "df_short = df['machine'].value_counts();"
   ]
  },
  {
   "cell_type": "code",
   "execution_count": 13,
   "metadata": {},
   "outputs": [],
   "source": [
    "for ma in df_short.index:\n",
    "    df_short.drop(df_short[df_short > short].index, inplace = True)"
   ]
  },
  {
   "cell_type": "code",
   "execution_count": 14,
   "metadata": {},
   "outputs": [],
   "source": [
    "for ma in df_short.index:\n",
    "    df.drop(df[df['machine'] == ma].index,inplace=True)"
   ]
  },
  {
   "cell_type": "code",
   "execution_count": 15,
   "metadata": {},
   "outputs": [],
   "source": [
    "df_event1 = df.loc[df['event'] == 1]\n"
   ]
  },
  {
   "cell_type": "code",
   "execution_count": 16,
   "metadata": {},
   "outputs": [],
   "source": [
    "df['max_date']=df.machine.map(df_max_date.date.to_dict())"
   ]
  },
  {
   "cell_type": "code",
   "execution_count": 17,
   "metadata": {},
   "outputs": [],
   "source": [
    "df['min_date']=df.machine.map(df_min_date.date.to_dict())"
   ]
  },
  {
   "cell_type": "code",
   "execution_count": 18,
   "metadata": {},
   "outputs": [],
   "source": [
    "df.date = pd.to_datetime(df.date)"
   ]
  },
  {
   "cell_type": "code",
   "execution_count": 19,
   "metadata": {},
   "outputs": [],
   "source": [
    "df.max_date = pd.to_datetime(df.max_date)"
   ]
  },
  {
   "cell_type": "code",
   "execution_count": 20,
   "metadata": {},
   "outputs": [],
   "source": [
    "df.min_date = pd.to_datetime(df.min_date)\n",
    "df['RUL'] = RUL_noFailure"
   ]
  },
  {
   "cell_type": "code",
   "execution_count": 21,
   "metadata": {},
   "outputs": [],
   "source": [
    "for ma in df_event1.machine:\n",
    "    df.loc[df['machine'] == ma, 'RUL'] = (df['max_date'] - df['date']).dt.days.astype('int16')\n",
    "    "
   ]
  },
  {
   "cell_type": "code",
   "execution_count": 22,
   "metadata": {},
   "outputs": [],
   "source": [
    "df['cycle'] = (df['date'] - df['min_date'])\n",
    "df['cycle'] = df['cycle'].dt.days.astype('int16') +1"
   ]
  },
  {
   "cell_type": "code",
   "execution_count": 23,
   "metadata": {},
   "outputs": [],
   "source": [
    "df.drop(['date','max_date', 'min_date', 'feature9'],axis=1,inplace=True)"
   ]
  },
  {
   "cell_type": "code",
   "execution_count": 24,
   "metadata": {},
   "outputs": [],
   "source": [
    "# lets split : about 30% for testing, 70% for training\n",
    "train_df  = df.iloc[:80000:,:]\n",
    "test_df = df.iloc[80000:,:]"
   ]
  },
  {
   "cell_type": "code",
   "execution_count": 25,
   "metadata": {},
   "outputs": [
    {
     "data": {
      "text/html": [
       "<div>\n",
       "<style scoped>\n",
       "    .dataframe tbody tr th:only-of-type {\n",
       "        vertical-align: middle;\n",
       "    }\n",
       "\n",
       "    .dataframe tbody tr th {\n",
       "        vertical-align: top;\n",
       "    }\n",
       "\n",
       "    .dataframe thead th {\n",
       "        text-align: right;\n",
       "    }\n",
       "</style>\n",
       "<table border=\"1\" class=\"dataframe\">\n",
       "  <thead>\n",
       "    <tr style=\"text-align: right;\">\n",
       "      <th></th>\n",
       "      <th>machine</th>\n",
       "      <th>event</th>\n",
       "      <th>feature1</th>\n",
       "      <th>feature2</th>\n",
       "      <th>feature3</th>\n",
       "      <th>feature4</th>\n",
       "      <th>feature5</th>\n",
       "      <th>feature6</th>\n",
       "      <th>feature7</th>\n",
       "      <th>feature8</th>\n",
       "      <th>RUL</th>\n",
       "      <th>cycle</th>\n",
       "    </tr>\n",
       "  </thead>\n",
       "  <tbody>\n",
       "    <tr>\n",
       "      <th>0</th>\n",
       "      <td>S1F01E6Y</td>\n",
       "      <td>0</td>\n",
       "      <td>0</td>\n",
       "      <td>0</td>\n",
       "      <td>237394</td>\n",
       "      <td>173295968</td>\n",
       "      <td>12</td>\n",
       "      <td>0</td>\n",
       "      <td>0</td>\n",
       "      <td>0</td>\n",
       "      <td>365</td>\n",
       "      <td>1</td>\n",
       "    </tr>\n",
       "    <tr>\n",
       "      <th>1</th>\n",
       "      <td>S1F01E6Y</td>\n",
       "      <td>0</td>\n",
       "      <td>0</td>\n",
       "      <td>0</td>\n",
       "      <td>238718</td>\n",
       "      <td>192723440</td>\n",
       "      <td>12</td>\n",
       "      <td>0</td>\n",
       "      <td>0</td>\n",
       "      <td>0</td>\n",
       "      <td>365</td>\n",
       "      <td>2</td>\n",
       "    </tr>\n",
       "    <tr>\n",
       "      <th>2</th>\n",
       "      <td>S1F01E6Y</td>\n",
       "      <td>0</td>\n",
       "      <td>0</td>\n",
       "      <td>0</td>\n",
       "      <td>240021</td>\n",
       "      <td>214317232</td>\n",
       "      <td>12</td>\n",
       "      <td>0</td>\n",
       "      <td>0</td>\n",
       "      <td>0</td>\n",
       "      <td>365</td>\n",
       "      <td>3</td>\n",
       "    </tr>\n",
       "    <tr>\n",
       "      <th>3</th>\n",
       "      <td>S1F01E6Y</td>\n",
       "      <td>0</td>\n",
       "      <td>0</td>\n",
       "      <td>0</td>\n",
       "      <td>241264</td>\n",
       "      <td>236917296</td>\n",
       "      <td>12</td>\n",
       "      <td>0</td>\n",
       "      <td>0</td>\n",
       "      <td>0</td>\n",
       "      <td>365</td>\n",
       "      <td>4</td>\n",
       "    </tr>\n",
       "    <tr>\n",
       "      <th>4</th>\n",
       "      <td>S1F01E6Y</td>\n",
       "      <td>0</td>\n",
       "      <td>0</td>\n",
       "      <td>0</td>\n",
       "      <td>242553</td>\n",
       "      <td>17099072</td>\n",
       "      <td>12</td>\n",
       "      <td>0</td>\n",
       "      <td>0</td>\n",
       "      <td>0</td>\n",
       "      <td>365</td>\n",
       "      <td>5</td>\n",
       "    </tr>\n",
       "    <tr>\n",
       "      <th>...</th>\n",
       "      <td>...</td>\n",
       "      <td>...</td>\n",
       "      <td>...</td>\n",
       "      <td>...</td>\n",
       "      <td>...</td>\n",
       "      <td>...</td>\n",
       "      <td>...</td>\n",
       "      <td>...</td>\n",
       "      <td>...</td>\n",
       "      <td>...</td>\n",
       "      <td>...</td>\n",
       "      <td>...</td>\n",
       "    </tr>\n",
       "    <tr>\n",
       "      <th>79995</th>\n",
       "      <td>W1F14XGD</td>\n",
       "      <td>0</td>\n",
       "      <td>0</td>\n",
       "      <td>0</td>\n",
       "      <td>221503</td>\n",
       "      <td>106768928</td>\n",
       "      <td>12</td>\n",
       "      <td>0</td>\n",
       "      <td>0</td>\n",
       "      <td>832</td>\n",
       "      <td>155</td>\n",
       "      <td>54</td>\n",
       "    </tr>\n",
       "    <tr>\n",
       "      <th>79996</th>\n",
       "      <td>W1F14XGD</td>\n",
       "      <td>0</td>\n",
       "      <td>0</td>\n",
       "      <td>0</td>\n",
       "      <td>221503</td>\n",
       "      <td>23045808</td>\n",
       "      <td>12</td>\n",
       "      <td>0</td>\n",
       "      <td>0</td>\n",
       "      <td>840</td>\n",
       "      <td>154</td>\n",
       "      <td>55</td>\n",
       "    </tr>\n",
       "    <tr>\n",
       "      <th>79997</th>\n",
       "      <td>W1F14XGD</td>\n",
       "      <td>0</td>\n",
       "      <td>0</td>\n",
       "      <td>0</td>\n",
       "      <td>221514</td>\n",
       "      <td>50799416</td>\n",
       "      <td>12</td>\n",
       "      <td>0</td>\n",
       "      <td>0</td>\n",
       "      <td>840</td>\n",
       "      <td>153</td>\n",
       "      <td>56</td>\n",
       "    </tr>\n",
       "    <tr>\n",
       "      <th>79998</th>\n",
       "      <td>W1F14XGD</td>\n",
       "      <td>0</td>\n",
       "      <td>0</td>\n",
       "      <td>0</td>\n",
       "      <td>221517</td>\n",
       "      <td>77740616</td>\n",
       "      <td>12</td>\n",
       "      <td>0</td>\n",
       "      <td>0</td>\n",
       "      <td>840</td>\n",
       "      <td>152</td>\n",
       "      <td>57</td>\n",
       "    </tr>\n",
       "    <tr>\n",
       "      <th>79999</th>\n",
       "      <td>W1F14XGD</td>\n",
       "      <td>0</td>\n",
       "      <td>0</td>\n",
       "      <td>0</td>\n",
       "      <td>221525</td>\n",
       "      <td>125163768</td>\n",
       "      <td>12</td>\n",
       "      <td>0</td>\n",
       "      <td>0</td>\n",
       "      <td>840</td>\n",
       "      <td>151</td>\n",
       "      <td>58</td>\n",
       "    </tr>\n",
       "  </tbody>\n",
       "</table>\n",
       "<p>80000 rows × 12 columns</p>\n",
       "</div>"
      ],
      "text/plain": [
       "        machine  event  feature1  feature2  feature3   feature4  feature5  \\\n",
       "0      S1F01E6Y      0         0         0    237394  173295968        12   \n",
       "1      S1F01E6Y      0         0         0    238718  192723440        12   \n",
       "2      S1F01E6Y      0         0         0    240021  214317232        12   \n",
       "3      S1F01E6Y      0         0         0    241264  236917296        12   \n",
       "4      S1F01E6Y      0         0         0    242553   17099072        12   \n",
       "...         ...    ...       ...       ...       ...        ...       ...   \n",
       "79995  W1F14XGD      0         0         0    221503  106768928        12   \n",
       "79996  W1F14XGD      0         0         0    221503   23045808        12   \n",
       "79997  W1F14XGD      0         0         0    221514   50799416        12   \n",
       "79998  W1F14XGD      0         0         0    221517   77740616        12   \n",
       "79999  W1F14XGD      0         0         0    221525  125163768        12   \n",
       "\n",
       "       feature6  feature7  feature8  RUL  cycle  \n",
       "0             0         0         0  365      1  \n",
       "1             0         0         0  365      2  \n",
       "2             0         0         0  365      3  \n",
       "3             0         0         0  365      4  \n",
       "4             0         0         0  365      5  \n",
       "...         ...       ...       ...  ...    ...  \n",
       "79995         0         0       832  155     54  \n",
       "79996         0         0       840  154     55  \n",
       "79997         0         0       840  153     56  \n",
       "79998         0         0       840  152     57  \n",
       "79999         0         0       840  151     58  \n",
       "\n",
       "[80000 rows x 12 columns]"
      ]
     },
     "execution_count": 25,
     "metadata": {},
     "output_type": "execute_result"
    }
   ],
   "source": [
    "train_df.reset_index(drop =True)"
   ]
  },
  {
   "cell_type": "code",
   "execution_count": 26,
   "metadata": {},
   "outputs": [
    {
     "data": {
      "text/html": [
       "<div>\n",
       "<style scoped>\n",
       "    .dataframe tbody tr th:only-of-type {\n",
       "        vertical-align: middle;\n",
       "    }\n",
       "\n",
       "    .dataframe tbody tr th {\n",
       "        vertical-align: top;\n",
       "    }\n",
       "\n",
       "    .dataframe thead th {\n",
       "        text-align: right;\n",
       "    }\n",
       "</style>\n",
       "<table border=\"1\" class=\"dataframe\">\n",
       "  <thead>\n",
       "    <tr style=\"text-align: right;\">\n",
       "      <th></th>\n",
       "      <th>machine</th>\n",
       "      <th>event</th>\n",
       "      <th>feature1</th>\n",
       "      <th>feature2</th>\n",
       "      <th>feature3</th>\n",
       "      <th>feature4</th>\n",
       "      <th>feature5</th>\n",
       "      <th>feature6</th>\n",
       "      <th>feature7</th>\n",
       "      <th>feature8</th>\n",
       "      <th>RUL</th>\n",
       "      <th>cycle</th>\n",
       "    </tr>\n",
       "  </thead>\n",
       "  <tbody>\n",
       "    <tr>\n",
       "      <th>0</th>\n",
       "      <td>W1F14XGD</td>\n",
       "      <td>0</td>\n",
       "      <td>0</td>\n",
       "      <td>0</td>\n",
       "      <td>222388</td>\n",
       "      <td>2704160</td>\n",
       "      <td>12</td>\n",
       "      <td>0</td>\n",
       "      <td>0</td>\n",
       "      <td>840</td>\n",
       "      <td>150</td>\n",
       "      <td>59</td>\n",
       "    </tr>\n",
       "    <tr>\n",
       "      <th>1</th>\n",
       "      <td>W1F14XGD</td>\n",
       "      <td>0</td>\n",
       "      <td>0</td>\n",
       "      <td>0</td>\n",
       "      <td>223775</td>\n",
       "      <td>19080432</td>\n",
       "      <td>12</td>\n",
       "      <td>0</td>\n",
       "      <td>0</td>\n",
       "      <td>936</td>\n",
       "      <td>149</td>\n",
       "      <td>60</td>\n",
       "    </tr>\n",
       "    <tr>\n",
       "      <th>2</th>\n",
       "      <td>W1F14XGD</td>\n",
       "      <td>0</td>\n",
       "      <td>0</td>\n",
       "      <td>0</td>\n",
       "      <td>224204</td>\n",
       "      <td>223354528</td>\n",
       "      <td>12</td>\n",
       "      <td>0</td>\n",
       "      <td>0</td>\n",
       "      <td>944</td>\n",
       "      <td>148</td>\n",
       "      <td>61</td>\n",
       "    </tr>\n",
       "    <tr>\n",
       "      <th>3</th>\n",
       "      <td>W1F14XGD</td>\n",
       "      <td>0</td>\n",
       "      <td>0</td>\n",
       "      <td>0</td>\n",
       "      <td>224204</td>\n",
       "      <td>133256160</td>\n",
       "      <td>12</td>\n",
       "      <td>0</td>\n",
       "      <td>0</td>\n",
       "      <td>944</td>\n",
       "      <td>147</td>\n",
       "      <td>62</td>\n",
       "    </tr>\n",
       "    <tr>\n",
       "      <th>4</th>\n",
       "      <td>W1F14XGD</td>\n",
       "      <td>0</td>\n",
       "      <td>0</td>\n",
       "      <td>0</td>\n",
       "      <td>224204</td>\n",
       "      <td>82986800</td>\n",
       "      <td>12</td>\n",
       "      <td>0</td>\n",
       "      <td>0</td>\n",
       "      <td>944</td>\n",
       "      <td>146</td>\n",
       "      <td>63</td>\n",
       "    </tr>\n",
       "    <tr>\n",
       "      <th>...</th>\n",
       "      <td>...</td>\n",
       "      <td>...</td>\n",
       "      <td>...</td>\n",
       "      <td>...</td>\n",
       "      <td>...</td>\n",
       "      <td>...</td>\n",
       "      <td>...</td>\n",
       "      <td>...</td>\n",
       "      <td>...</td>\n",
       "      <td>...</td>\n",
       "      <td>...</td>\n",
       "      <td>...</td>\n",
       "    </tr>\n",
       "    <tr>\n",
       "      <th>42354</th>\n",
       "      <td>Z1F2PBHX</td>\n",
       "      <td>0</td>\n",
       "      <td>0</td>\n",
       "      <td>0</td>\n",
       "      <td>162645</td>\n",
       "      <td>180917784</td>\n",
       "      <td>5</td>\n",
       "      <td>0</td>\n",
       "      <td>0</td>\n",
       "      <td>0</td>\n",
       "      <td>365</td>\n",
       "      <td>92</td>\n",
       "    </tr>\n",
       "    <tr>\n",
       "      <th>42355</th>\n",
       "      <td>Z1F2PBHX</td>\n",
       "      <td>0</td>\n",
       "      <td>0</td>\n",
       "      <td>0</td>\n",
       "      <td>162645</td>\n",
       "      <td>33952520</td>\n",
       "      <td>5</td>\n",
       "      <td>0</td>\n",
       "      <td>0</td>\n",
       "      <td>0</td>\n",
       "      <td>365</td>\n",
       "      <td>93</td>\n",
       "    </tr>\n",
       "    <tr>\n",
       "      <th>42356</th>\n",
       "      <td>Z1F2PBHX</td>\n",
       "      <td>0</td>\n",
       "      <td>0</td>\n",
       "      <td>0</td>\n",
       "      <td>162645</td>\n",
       "      <td>59053184</td>\n",
       "      <td>5</td>\n",
       "      <td>0</td>\n",
       "      <td>0</td>\n",
       "      <td>0</td>\n",
       "      <td>365</td>\n",
       "      <td>94</td>\n",
       "    </tr>\n",
       "    <tr>\n",
       "      <th>42357</th>\n",
       "      <td>Z1F2PBHX</td>\n",
       "      <td>0</td>\n",
       "      <td>0</td>\n",
       "      <td>0</td>\n",
       "      <td>163047</td>\n",
       "      <td>110545440</td>\n",
       "      <td>5</td>\n",
       "      <td>0</td>\n",
       "      <td>0</td>\n",
       "      <td>0</td>\n",
       "      <td>365</td>\n",
       "      <td>95</td>\n",
       "    </tr>\n",
       "    <tr>\n",
       "      <th>42358</th>\n",
       "      <td>Z1F2PBHX</td>\n",
       "      <td>0</td>\n",
       "      <td>0</td>\n",
       "      <td>0</td>\n",
       "      <td>164020</td>\n",
       "      <td>130522432</td>\n",
       "      <td>5</td>\n",
       "      <td>0</td>\n",
       "      <td>0</td>\n",
       "      <td>0</td>\n",
       "      <td>365</td>\n",
       "      <td>96</td>\n",
       "    </tr>\n",
       "  </tbody>\n",
       "</table>\n",
       "<p>42359 rows × 12 columns</p>\n",
       "</div>"
      ],
      "text/plain": [
       "        machine  event  feature1  feature2  feature3   feature4  feature5  \\\n",
       "0      W1F14XGD      0         0         0    222388    2704160        12   \n",
       "1      W1F14XGD      0         0         0    223775   19080432        12   \n",
       "2      W1F14XGD      0         0         0    224204  223354528        12   \n",
       "3      W1F14XGD      0         0         0    224204  133256160        12   \n",
       "4      W1F14XGD      0         0         0    224204   82986800        12   \n",
       "...         ...    ...       ...       ...       ...        ...       ...   \n",
       "42354  Z1F2PBHX      0         0         0    162645  180917784         5   \n",
       "42355  Z1F2PBHX      0         0         0    162645   33952520         5   \n",
       "42356  Z1F2PBHX      0         0         0    162645   59053184         5   \n",
       "42357  Z1F2PBHX      0         0         0    163047  110545440         5   \n",
       "42358  Z1F2PBHX      0         0         0    164020  130522432         5   \n",
       "\n",
       "       feature6  feature7  feature8  RUL  cycle  \n",
       "0             0         0       840  150     59  \n",
       "1             0         0       936  149     60  \n",
       "2             0         0       944  148     61  \n",
       "3             0         0       944  147     62  \n",
       "4             0         0       944  146     63  \n",
       "...         ...       ...       ...  ...    ...  \n",
       "42354         0         0         0  365     92  \n",
       "42355         0         0         0  365     93  \n",
       "42356         0         0         0  365     94  \n",
       "42357         0         0         0  365     95  \n",
       "42358         0         0         0  365     96  \n",
       "\n",
       "[42359 rows x 12 columns]"
      ]
     },
     "execution_count": 26,
     "metadata": {},
     "output_type": "execute_result"
    }
   ],
   "source": [
    "test_df.reset_index(drop =True)"
   ]
  },
  {
   "cell_type": "markdown",
   "metadata": {},
   "source": [
    "## 5. Features"
   ]
  },
  {
   "cell_type": "code",
   "execution_count": 27,
   "metadata": {},
   "outputs": [
    {
     "name": "stderr",
     "output_type": "stream",
     "text": [
      "C:\\Users\\xyz\\AppData\\Local\\Temp/ipykernel_23364/1536191356.py:3: SettingWithCopyWarning: \n",
      "A value is trying to be set on a copy of a slice from a DataFrame.\n",
      "Try using .loc[row_indexer,col_indexer] = value instead\n",
      "\n",
      "See the caveats in the documentation: https://pandas.pydata.org/pandas-docs/stable/user_guide/indexing.html#returning-a-view-versus-a-copy\n",
      "  train_df['cycle_norm'] = train_df['cycle']\n"
     ]
    },
    {
     "data": {
      "text/html": [
       "<div>\n",
       "<style scoped>\n",
       "    .dataframe tbody tr th:only-of-type {\n",
       "        vertical-align: middle;\n",
       "    }\n",
       "\n",
       "    .dataframe tbody tr th {\n",
       "        vertical-align: top;\n",
       "    }\n",
       "\n",
       "    .dataframe thead th {\n",
       "        text-align: right;\n",
       "    }\n",
       "</style>\n",
       "<table border=\"1\" class=\"dataframe\">\n",
       "  <thead>\n",
       "    <tr style=\"text-align: right;\">\n",
       "      <th></th>\n",
       "      <th>machine</th>\n",
       "      <th>event</th>\n",
       "      <th>feature1</th>\n",
       "      <th>feature2</th>\n",
       "      <th>feature3</th>\n",
       "      <th>feature4</th>\n",
       "      <th>feature5</th>\n",
       "      <th>feature6</th>\n",
       "      <th>feature7</th>\n",
       "      <th>feature8</th>\n",
       "      <th>RUL</th>\n",
       "      <th>cycle</th>\n",
       "      <th>cycle_norm</th>\n",
       "    </tr>\n",
       "  </thead>\n",
       "  <tbody>\n",
       "    <tr>\n",
       "      <th>2</th>\n",
       "      <td>S1F01E6Y</td>\n",
       "      <td>0</td>\n",
       "      <td>0.0</td>\n",
       "      <td>0.0</td>\n",
       "      <td>0.413122</td>\n",
       "      <td>0.709821</td>\n",
       "      <td>0.104167</td>\n",
       "      <td>0.0</td>\n",
       "      <td>0.0</td>\n",
       "      <td>0.0</td>\n",
       "      <td>365</td>\n",
       "      <td>1</td>\n",
       "      <td>0.000000</td>\n",
       "    </tr>\n",
       "    <tr>\n",
       "      <th>1165</th>\n",
       "      <td>S1F01E6Y</td>\n",
       "      <td>0</td>\n",
       "      <td>0.0</td>\n",
       "      <td>0.0</td>\n",
       "      <td>0.415426</td>\n",
       "      <td>0.789396</td>\n",
       "      <td>0.104167</td>\n",
       "      <td>0.0</td>\n",
       "      <td>0.0</td>\n",
       "      <td>0.0</td>\n",
       "      <td>365</td>\n",
       "      <td>2</td>\n",
       "      <td>0.003279</td>\n",
       "    </tr>\n",
       "    <tr>\n",
       "      <th>2328</th>\n",
       "      <td>S1F01E6Y</td>\n",
       "      <td>0</td>\n",
       "      <td>0.0</td>\n",
       "      <td>0.0</td>\n",
       "      <td>0.417694</td>\n",
       "      <td>0.877844</td>\n",
       "      <td>0.104167</td>\n",
       "      <td>0.0</td>\n",
       "      <td>0.0</td>\n",
       "      <td>0.0</td>\n",
       "      <td>365</td>\n",
       "      <td>3</td>\n",
       "      <td>0.006557</td>\n",
       "    </tr>\n",
       "    <tr>\n",
       "      <th>3491</th>\n",
       "      <td>S1F01E6Y</td>\n",
       "      <td>0</td>\n",
       "      <td>0.0</td>\n",
       "      <td>0.0</td>\n",
       "      <td>0.419857</td>\n",
       "      <td>0.970414</td>\n",
       "      <td>0.104167</td>\n",
       "      <td>0.0</td>\n",
       "      <td>0.0</td>\n",
       "      <td>0.0</td>\n",
       "      <td>365</td>\n",
       "      <td>4</td>\n",
       "      <td>0.009836</td>\n",
       "    </tr>\n",
       "    <tr>\n",
       "      <th>4653</th>\n",
       "      <td>S1F01E6Y</td>\n",
       "      <td>0</td>\n",
       "      <td>0.0</td>\n",
       "      <td>0.0</td>\n",
       "      <td>0.422101</td>\n",
       "      <td>0.070038</td>\n",
       "      <td>0.104167</td>\n",
       "      <td>0.0</td>\n",
       "      <td>0.0</td>\n",
       "      <td>0.0</td>\n",
       "      <td>365</td>\n",
       "      <td>5</td>\n",
       "      <td>0.013115</td>\n",
       "    </tr>\n",
       "  </tbody>\n",
       "</table>\n",
       "</div>"
      ],
      "text/plain": [
       "       machine  event  feature1  feature2  feature3  feature4  feature5  \\\n",
       "2     S1F01E6Y      0       0.0       0.0  0.413122  0.709821  0.104167   \n",
       "1165  S1F01E6Y      0       0.0       0.0  0.415426  0.789396  0.104167   \n",
       "2328  S1F01E6Y      0       0.0       0.0  0.417694  0.877844  0.104167   \n",
       "3491  S1F01E6Y      0       0.0       0.0  0.419857  0.970414  0.104167   \n",
       "4653  S1F01E6Y      0       0.0       0.0  0.422101  0.070038  0.104167   \n",
       "\n",
       "      feature6  feature7  feature8  RUL  cycle  cycle_norm  \n",
       "2          0.0       0.0       0.0  365      1    0.000000  \n",
       "1165       0.0       0.0       0.0  365      2    0.003279  \n",
       "2328       0.0       0.0       0.0  365      3    0.006557  \n",
       "3491       0.0       0.0       0.0  365      4    0.009836  \n",
       "4653       0.0       0.0       0.0  365      5    0.013115  "
      ]
     },
     "execution_count": 27,
     "metadata": {},
     "output_type": "execute_result"
    }
   ],
   "source": [
    "# MinMax normalization\n",
    "from sklearn.preprocessing import MinMaxScaler\n",
    "train_df['cycle_norm'] = train_df['cycle']\n",
    "cols_normalize = train_df.columns.difference(['machine','cycle','RUL', 'event'])\n",
    "min_max_scaler = MinMaxScaler()\n",
    "norm_train_df = pd.DataFrame(min_max_scaler.fit_transform(train_df[cols_normalize]), \n",
    "                             columns=cols_normalize, \n",
    "                             index=train_df.index)\n",
    "join_df = train_df[train_df.columns.difference(cols_normalize)].join(norm_train_df)\n",
    "train_df = join_df.reindex(columns = train_df.columns)\n",
    "train_df.head()"
   ]
  },
  {
   "cell_type": "code",
   "execution_count": 28,
   "metadata": {},
   "outputs": [
    {
     "name": "stderr",
     "output_type": "stream",
     "text": [
      "C:\\Users\\brm738\\AppData\\Local\\Temp/ipykernel_23364/2108282481.py:1: SettingWithCopyWarning: \n",
      "A value is trying to be set on a copy of a slice from a DataFrame.\n",
      "Try using .loc[row_indexer,col_indexer] = value instead\n",
      "\n",
      "See the caveats in the documentation: https://pandas.pydata.org/pandas-docs/stable/user_guide/indexing.html#returning-a-view-versus-a-copy\n",
      "  test_df['cycle_norm'] = test_df['cycle']\n"
     ]
    },
    {
     "data": {
      "text/html": [
       "<div>\n",
       "<style scoped>\n",
       "    .dataframe tbody tr th:only-of-type {\n",
       "        vertical-align: middle;\n",
       "    }\n",
       "\n",
       "    .dataframe tbody tr th {\n",
       "        vertical-align: top;\n",
       "    }\n",
       "\n",
       "    .dataframe thead th {\n",
       "        text-align: right;\n",
       "    }\n",
       "</style>\n",
       "<table border=\"1\" class=\"dataframe\">\n",
       "  <thead>\n",
       "    <tr style=\"text-align: right;\">\n",
       "      <th></th>\n",
       "      <th>machine</th>\n",
       "      <th>event</th>\n",
       "      <th>feature1</th>\n",
       "      <th>feature2</th>\n",
       "      <th>feature3</th>\n",
       "      <th>feature4</th>\n",
       "      <th>feature5</th>\n",
       "      <th>feature6</th>\n",
       "      <th>feature7</th>\n",
       "      <th>feature8</th>\n",
       "      <th>RUL</th>\n",
       "      <th>cycle</th>\n",
       "      <th>cycle_norm</th>\n",
       "    </tr>\n",
       "  </thead>\n",
       "  <tbody>\n",
       "    <tr>\n",
       "      <th>44309</th>\n",
       "      <td>W1F14XGD</td>\n",
       "      <td>0</td>\n",
       "      <td>0.0</td>\n",
       "      <td>0.0</td>\n",
       "      <td>0.403353</td>\n",
       "      <td>0.011077</td>\n",
       "      <td>0.117021</td>\n",
       "      <td>0.0</td>\n",
       "      <td>0.0</td>\n",
       "      <td>0.012929</td>\n",
       "      <td>150</td>\n",
       "      <td>59</td>\n",
       "      <td>0.190164</td>\n",
       "    </tr>\n",
       "    <tr>\n",
       "      <th>44981</th>\n",
       "      <td>W1F14XGD</td>\n",
       "      <td>0</td>\n",
       "      <td>0.0</td>\n",
       "      <td>0.0</td>\n",
       "      <td>0.405868</td>\n",
       "      <td>0.078156</td>\n",
       "      <td>0.117021</td>\n",
       "      <td>0.0</td>\n",
       "      <td>0.0</td>\n",
       "      <td>0.014407</td>\n",
       "      <td>149</td>\n",
       "      <td>60</td>\n",
       "      <td>0.193443</td>\n",
       "    </tr>\n",
       "    <tr>\n",
       "      <th>45653</th>\n",
       "      <td>W1F14XGD</td>\n",
       "      <td>0</td>\n",
       "      <td>0.0</td>\n",
       "      <td>0.0</td>\n",
       "      <td>0.406646</td>\n",
       "      <td>0.914890</td>\n",
       "      <td>0.117021</td>\n",
       "      <td>0.0</td>\n",
       "      <td>0.0</td>\n",
       "      <td>0.014530</td>\n",
       "      <td>148</td>\n",
       "      <td>61</td>\n",
       "      <td>0.196721</td>\n",
       "    </tr>\n",
       "    <tr>\n",
       "      <th>46325</th>\n",
       "      <td>W1F14XGD</td>\n",
       "      <td>0</td>\n",
       "      <td>0.0</td>\n",
       "      <td>0.0</td>\n",
       "      <td>0.406646</td>\n",
       "      <td>0.545835</td>\n",
       "      <td>0.117021</td>\n",
       "      <td>0.0</td>\n",
       "      <td>0.0</td>\n",
       "      <td>0.014530</td>\n",
       "      <td>147</td>\n",
       "      <td>62</td>\n",
       "      <td>0.200000</td>\n",
       "    </tr>\n",
       "    <tr>\n",
       "      <th>46997</th>\n",
       "      <td>W1F14XGD</td>\n",
       "      <td>0</td>\n",
       "      <td>0.0</td>\n",
       "      <td>0.0</td>\n",
       "      <td>0.406646</td>\n",
       "      <td>0.339925</td>\n",
       "      <td>0.117021</td>\n",
       "      <td>0.0</td>\n",
       "      <td>0.0</td>\n",
       "      <td>0.014530</td>\n",
       "      <td>146</td>\n",
       "      <td>63</td>\n",
       "      <td>0.203279</td>\n",
       "    </tr>\n",
       "  </tbody>\n",
       "</table>\n",
       "</div>"
      ],
      "text/plain": [
       "        machine  event  feature1  feature2  feature3  feature4  feature5  \\\n",
       "44309  W1F14XGD      0       0.0       0.0  0.403353  0.011077  0.117021   \n",
       "44981  W1F14XGD      0       0.0       0.0  0.405868  0.078156  0.117021   \n",
       "45653  W1F14XGD      0       0.0       0.0  0.406646  0.914890  0.117021   \n",
       "46325  W1F14XGD      0       0.0       0.0  0.406646  0.545835  0.117021   \n",
       "46997  W1F14XGD      0       0.0       0.0  0.406646  0.339925  0.117021   \n",
       "\n",
       "       feature6  feature7  feature8  RUL  cycle  cycle_norm  \n",
       "44309       0.0       0.0  0.012929  150     59    0.190164  \n",
       "44981       0.0       0.0  0.014407  149     60    0.193443  \n",
       "45653       0.0       0.0  0.014530  148     61    0.196721  \n",
       "46325       0.0       0.0  0.014530  147     62    0.200000  \n",
       "46997       0.0       0.0  0.014530  146     63    0.203279  "
      ]
     },
     "execution_count": 28,
     "metadata": {},
     "output_type": "execute_result"
    }
   ],
   "source": [
    "test_df['cycle_norm'] = test_df['cycle']\n",
    "cols_normalize = test_df.columns.difference(['machine','cycle','RUL', 'event'])\n",
    "min_max_scaler = MinMaxScaler()\n",
    "norm_test_df = pd.DataFrame(min_max_scaler.fit_transform(test_df[cols_normalize]), \n",
    "                             columns=cols_normalize, \n",
    "                             index=test_df.index)\n",
    "join_df = test_df[test_df.columns.difference(cols_normalize)].join(norm_test_df)\n",
    "test_df = join_df.reindex(columns = test_df.columns)\n",
    "test_df.head()"
   ]
  },
  {
   "cell_type": "code",
   "execution_count": 29,
   "metadata": {},
   "outputs": [
    {
     "data": {
      "text/html": [
       "<div>\n",
       "<style scoped>\n",
       "    .dataframe tbody tr th:only-of-type {\n",
       "        vertical-align: middle;\n",
       "    }\n",
       "\n",
       "    .dataframe tbody tr th {\n",
       "        vertical-align: top;\n",
       "    }\n",
       "\n",
       "    .dataframe thead th {\n",
       "        text-align: right;\n",
       "    }\n",
       "</style>\n",
       "<table border=\"1\" class=\"dataframe\">\n",
       "  <thead>\n",
       "    <tr style=\"text-align: right;\">\n",
       "      <th></th>\n",
       "      <th>machine</th>\n",
       "      <th>event</th>\n",
       "      <th>feature1</th>\n",
       "      <th>feature2</th>\n",
       "      <th>feature3</th>\n",
       "      <th>feature4</th>\n",
       "      <th>feature5</th>\n",
       "      <th>feature6</th>\n",
       "      <th>feature7</th>\n",
       "      <th>feature8</th>\n",
       "      <th>RUL</th>\n",
       "      <th>cycle</th>\n",
       "      <th>cycle_norm</th>\n",
       "      <th>label1</th>\n",
       "    </tr>\n",
       "  </thead>\n",
       "  <tbody>\n",
       "    <tr>\n",
       "      <th>2</th>\n",
       "      <td>S1F01E6Y</td>\n",
       "      <td>0</td>\n",
       "      <td>0.0</td>\n",
       "      <td>0.0</td>\n",
       "      <td>0.413122</td>\n",
       "      <td>0.709821</td>\n",
       "      <td>0.104167</td>\n",
       "      <td>0.0</td>\n",
       "      <td>0.0</td>\n",
       "      <td>0.0</td>\n",
       "      <td>365</td>\n",
       "      <td>1</td>\n",
       "      <td>0.000000</td>\n",
       "      <td>0</td>\n",
       "    </tr>\n",
       "    <tr>\n",
       "      <th>1165</th>\n",
       "      <td>S1F01E6Y</td>\n",
       "      <td>0</td>\n",
       "      <td>0.0</td>\n",
       "      <td>0.0</td>\n",
       "      <td>0.415426</td>\n",
       "      <td>0.789396</td>\n",
       "      <td>0.104167</td>\n",
       "      <td>0.0</td>\n",
       "      <td>0.0</td>\n",
       "      <td>0.0</td>\n",
       "      <td>365</td>\n",
       "      <td>2</td>\n",
       "      <td>0.003279</td>\n",
       "      <td>0</td>\n",
       "    </tr>\n",
       "    <tr>\n",
       "      <th>2328</th>\n",
       "      <td>S1F01E6Y</td>\n",
       "      <td>0</td>\n",
       "      <td>0.0</td>\n",
       "      <td>0.0</td>\n",
       "      <td>0.417694</td>\n",
       "      <td>0.877844</td>\n",
       "      <td>0.104167</td>\n",
       "      <td>0.0</td>\n",
       "      <td>0.0</td>\n",
       "      <td>0.0</td>\n",
       "      <td>365</td>\n",
       "      <td>3</td>\n",
       "      <td>0.006557</td>\n",
       "      <td>0</td>\n",
       "    </tr>\n",
       "    <tr>\n",
       "      <th>3491</th>\n",
       "      <td>S1F01E6Y</td>\n",
       "      <td>0</td>\n",
       "      <td>0.0</td>\n",
       "      <td>0.0</td>\n",
       "      <td>0.419857</td>\n",
       "      <td>0.970414</td>\n",
       "      <td>0.104167</td>\n",
       "      <td>0.0</td>\n",
       "      <td>0.0</td>\n",
       "      <td>0.0</td>\n",
       "      <td>365</td>\n",
       "      <td>4</td>\n",
       "      <td>0.009836</td>\n",
       "      <td>0</td>\n",
       "    </tr>\n",
       "    <tr>\n",
       "      <th>4653</th>\n",
       "      <td>S1F01E6Y</td>\n",
       "      <td>0</td>\n",
       "      <td>0.0</td>\n",
       "      <td>0.0</td>\n",
       "      <td>0.422101</td>\n",
       "      <td>0.070038</td>\n",
       "      <td>0.104167</td>\n",
       "      <td>0.0</td>\n",
       "      <td>0.0</td>\n",
       "      <td>0.0</td>\n",
       "      <td>365</td>\n",
       "      <td>5</td>\n",
       "      <td>0.013115</td>\n",
       "      <td>0</td>\n",
       "    </tr>\n",
       "  </tbody>\n",
       "</table>\n",
       "</div>"
      ],
      "text/plain": [
       "       machine  event  feature1  feature2  feature3  feature4  feature5  \\\n",
       "2     S1F01E6Y      0       0.0       0.0  0.413122  0.709821  0.104167   \n",
       "1165  S1F01E6Y      0       0.0       0.0  0.415426  0.789396  0.104167   \n",
       "2328  S1F01E6Y      0       0.0       0.0  0.417694  0.877844  0.104167   \n",
       "3491  S1F01E6Y      0       0.0       0.0  0.419857  0.970414  0.104167   \n",
       "4653  S1F01E6Y      0       0.0       0.0  0.422101  0.070038  0.104167   \n",
       "\n",
       "      feature6  feature7  feature8  RUL  cycle  cycle_norm  label1  \n",
       "2          0.0       0.0       0.0  365      1    0.000000       0  \n",
       "1165       0.0       0.0       0.0  365      2    0.003279       0  \n",
       "2328       0.0       0.0       0.0  365      3    0.006557       0  \n",
       "3491       0.0       0.0       0.0  365      4    0.009836       0  \n",
       "4653       0.0       0.0       0.0  365      5    0.013115       0  "
      ]
     },
     "execution_count": 29,
     "metadata": {},
     "output_type": "execute_result"
    }
   ],
   "source": [
    "# generate label columns for training data.\n",
    "# w1 = how many days before the event we will set the label to 1\n",
    "w1 = 5\n",
    "# Label1 indicates a failure will occur within the next 5 days.\n",
    "# 1 indicates failure, 0 indicates healthy \n",
    "train_df['label1'] = np.where(train_df['RUL'] <= w1, 1, 0 )\n",
    "train_df.head()"
   ]
  },
  {
   "cell_type": "code",
   "execution_count": 30,
   "metadata": {},
   "outputs": [
    {
     "data": {
      "text/html": [
       "<div>\n",
       "<style scoped>\n",
       "    .dataframe tbody tr th:only-of-type {\n",
       "        vertical-align: middle;\n",
       "    }\n",
       "\n",
       "    .dataframe tbody tr th {\n",
       "        vertical-align: top;\n",
       "    }\n",
       "\n",
       "    .dataframe thead th {\n",
       "        text-align: right;\n",
       "    }\n",
       "</style>\n",
       "<table border=\"1\" class=\"dataframe\">\n",
       "  <thead>\n",
       "    <tr style=\"text-align: right;\">\n",
       "      <th></th>\n",
       "      <th>machine</th>\n",
       "      <th>event</th>\n",
       "      <th>feature1</th>\n",
       "      <th>feature2</th>\n",
       "      <th>feature3</th>\n",
       "      <th>feature4</th>\n",
       "      <th>feature5</th>\n",
       "      <th>feature6</th>\n",
       "      <th>feature7</th>\n",
       "      <th>feature8</th>\n",
       "      <th>RUL</th>\n",
       "      <th>cycle</th>\n",
       "      <th>cycle_norm</th>\n",
       "      <th>label1</th>\n",
       "    </tr>\n",
       "  </thead>\n",
       "  <tbody>\n",
       "    <tr>\n",
       "      <th>44309</th>\n",
       "      <td>W1F14XGD</td>\n",
       "      <td>0</td>\n",
       "      <td>0.0</td>\n",
       "      <td>0.0</td>\n",
       "      <td>0.403353</td>\n",
       "      <td>0.011077</td>\n",
       "      <td>0.117021</td>\n",
       "      <td>0.0</td>\n",
       "      <td>0.0</td>\n",
       "      <td>0.012929</td>\n",
       "      <td>150</td>\n",
       "      <td>59</td>\n",
       "      <td>0.190164</td>\n",
       "      <td>0</td>\n",
       "    </tr>\n",
       "    <tr>\n",
       "      <th>44981</th>\n",
       "      <td>W1F14XGD</td>\n",
       "      <td>0</td>\n",
       "      <td>0.0</td>\n",
       "      <td>0.0</td>\n",
       "      <td>0.405868</td>\n",
       "      <td>0.078156</td>\n",
       "      <td>0.117021</td>\n",
       "      <td>0.0</td>\n",
       "      <td>0.0</td>\n",
       "      <td>0.014407</td>\n",
       "      <td>149</td>\n",
       "      <td>60</td>\n",
       "      <td>0.193443</td>\n",
       "      <td>0</td>\n",
       "    </tr>\n",
       "    <tr>\n",
       "      <th>45653</th>\n",
       "      <td>W1F14XGD</td>\n",
       "      <td>0</td>\n",
       "      <td>0.0</td>\n",
       "      <td>0.0</td>\n",
       "      <td>0.406646</td>\n",
       "      <td>0.914890</td>\n",
       "      <td>0.117021</td>\n",
       "      <td>0.0</td>\n",
       "      <td>0.0</td>\n",
       "      <td>0.014530</td>\n",
       "      <td>148</td>\n",
       "      <td>61</td>\n",
       "      <td>0.196721</td>\n",
       "      <td>0</td>\n",
       "    </tr>\n",
       "    <tr>\n",
       "      <th>46325</th>\n",
       "      <td>W1F14XGD</td>\n",
       "      <td>0</td>\n",
       "      <td>0.0</td>\n",
       "      <td>0.0</td>\n",
       "      <td>0.406646</td>\n",
       "      <td>0.545835</td>\n",
       "      <td>0.117021</td>\n",
       "      <td>0.0</td>\n",
       "      <td>0.0</td>\n",
       "      <td>0.014530</td>\n",
       "      <td>147</td>\n",
       "      <td>62</td>\n",
       "      <td>0.200000</td>\n",
       "      <td>0</td>\n",
       "    </tr>\n",
       "    <tr>\n",
       "      <th>46997</th>\n",
       "      <td>W1F14XGD</td>\n",
       "      <td>0</td>\n",
       "      <td>0.0</td>\n",
       "      <td>0.0</td>\n",
       "      <td>0.406646</td>\n",
       "      <td>0.339925</td>\n",
       "      <td>0.117021</td>\n",
       "      <td>0.0</td>\n",
       "      <td>0.0</td>\n",
       "      <td>0.014530</td>\n",
       "      <td>146</td>\n",
       "      <td>63</td>\n",
       "      <td>0.203279</td>\n",
       "      <td>0</td>\n",
       "    </tr>\n",
       "  </tbody>\n",
       "</table>\n",
       "</div>"
      ],
      "text/plain": [
       "        machine  event  feature1  feature2  feature3  feature4  feature5  \\\n",
       "44309  W1F14XGD      0       0.0       0.0  0.403353  0.011077  0.117021   \n",
       "44981  W1F14XGD      0       0.0       0.0  0.405868  0.078156  0.117021   \n",
       "45653  W1F14XGD      0       0.0       0.0  0.406646  0.914890  0.117021   \n",
       "46325  W1F14XGD      0       0.0       0.0  0.406646  0.545835  0.117021   \n",
       "46997  W1F14XGD      0       0.0       0.0  0.406646  0.339925  0.117021   \n",
       "\n",
       "       feature6  feature7  feature8  RUL  cycle  cycle_norm  label1  \n",
       "44309       0.0       0.0  0.012929  150     59    0.190164       0  \n",
       "44981       0.0       0.0  0.014407  149     60    0.193443       0  \n",
       "45653       0.0       0.0  0.014530  148     61    0.196721       0  \n",
       "46325       0.0       0.0  0.014530  147     62    0.200000       0  \n",
       "46997       0.0       0.0  0.014530  146     63    0.203279       0  "
      ]
     },
     "execution_count": 30,
     "metadata": {},
     "output_type": "execute_result"
    }
   ],
   "source": [
    "# generate label1 column using the same w1 for test data\n",
    "test_df['label1'] = np.where(test_df['RUL'] <= w1, 1, 0 )\n",
    "test_df.head()"
   ]
  },
  {
   "cell_type": "code",
   "execution_count": 31,
   "metadata": {},
   "outputs": [],
   "source": [
    "# pick an observation sliding window size of 10 days - longer not possible. I already deleted machines which worked shorter than 10 days\n",
    "sequence_length = 10"
   ]
  },
  {
   "cell_type": "code",
   "execution_count": 32,
   "metadata": {},
   "outputs": [],
   "source": [
    "# function to reshape features into (samples, time steps, features) \n",
    "def gen_sequence(id_df, seq_length, seq_cols):\n",
    "    \"\"\" Only sequences that meet the window-length should be considered. I deleted machines with shorter observation time. \"\"\"\n",
    "    \n",
    "    data_array = id_df[seq_cols].values\n",
    "    num_elements = data_array.shape[0]\n",
    "    \n",
    "    for start, stop in zip(range(0, num_elements-seq_length), range(seq_length, num_elements)):\n",
    "        yield data_array[start:stop, :]"
   ]
  },
  {
   "cell_type": "code",
   "execution_count": 33,
   "metadata": {},
   "outputs": [
    {
     "name": "stdout",
     "output_type": "stream",
     "text": [
      "['cycle_norm', 'event', 'feature1', 'feature2', 'feature3', 'feature4', 'feature5', 'feature6', 'feature7', 'feature8', 'RUL']\n"
     ]
    }
   ],
   "source": [
    "# pick the feature columns \n",
    "sequence_cols = ['cycle_norm']\n",
    "key_cols = ['machine', 'cycle']\n",
    "label_cols = ['label1']\n",
    "\n",
    "\n",
    "input_features = test_df.columns.values.tolist()\n",
    "sensor_cols = [x for x in input_features if x not in set(key_cols)]\n",
    "sensor_cols = [x for x in sensor_cols if x not in set(label_cols)]\n",
    "sensor_cols = [x for x in sensor_cols if x not in set(sequence_cols)]\n",
    "\n",
    "# The time is sequenced along\n",
    "# This may be a silly way to get these column names, but it's relatively clear\n",
    "sequence_cols.extend(sensor_cols)\n",
    "\n",
    "print(sequence_cols)"
   ]
  },
  {
   "cell_type": "code",
   "execution_count": 34,
   "metadata": {},
   "outputs": [
    {
     "data": {
      "text/plain": [
       "(74340, 10, 11)"
      ]
     },
     "execution_count": 34,
     "metadata": {},
     "output_type": "execute_result"
    }
   ],
   "source": [
    "# generator for the sequences\n",
    "\n",
    "seq_gen = (list(gen_sequence(train_df[train_df['machine']==id], sequence_length, sequence_cols)) \n",
    "           for id in train_df['machine'].unique())\n",
    "\n",
    "# generate sequences and convert to numpy array\n",
    "seq_array = np.concatenate(list(seq_gen)).astype(np.float32)\n",
    "seq_array.shape"
   ]
  },
  {
   "cell_type": "code",
   "execution_count": 35,
   "metadata": {},
   "outputs": [],
   "source": [
    "# function to generate labels\n",
    "def gen_labels(id_df, seq_length, label):\n",
    "    data_array = id_df[label].values\n",
    "    num_elements = data_array.shape[0]\n",
    "    return data_array[seq_length:num_elements, :]"
   ]
  },
  {
   "cell_type": "code",
   "execution_count": 36,
   "metadata": {},
   "outputs": [
    {
     "data": {
      "text/plain": [
       "(74340, 1)"
      ]
     },
     "execution_count": 36,
     "metadata": {},
     "output_type": "execute_result"
    }
   ],
   "source": [
    "# generate labels\n",
    "label_gen = [gen_labels(train_df[train_df['machine']==id], sequence_length, ['label1']) \n",
    "             for id in train_df['machine'].unique()]\n",
    "#label_gen = [gen_labels(train_df[train_df['machine']==id], sequence_length, ['event']) \n",
    "#             for id in train_df['machine'].unique()]\n",
    "label_array = np.concatenate(label_gen).astype(np.float32)\n",
    "label_array.shape"
   ]
  },
  {
   "cell_type": "markdown",
   "metadata": {},
   "source": [
    "## 6. Model"
   ]
  },
  {
   "cell_type": "code",
   "execution_count": 37,
   "metadata": {},
   "outputs": [
    {
     "name": "stdout",
     "output_type": "stream",
     "text": [
      "Model: \"sequential\"\n",
      "_________________________________________________________________\n",
      " Layer (type)                Output Shape              Param #   \n",
      "=================================================================\n",
      " lstm (LSTM)                 (None, 10, 100)           44800     \n",
      "                                                                 \n",
      " dropout (Dropout)           (None, 10, 100)           0         \n",
      "                                                                 \n",
      " lstm_1 (LSTM)               (None, 50)                30200     \n",
      "                                                                 \n",
      " dropout_1 (Dropout)         (None, 50)                0         \n",
      "                                                                 \n",
      " dense (Dense)               (None, 1)                 51        \n",
      "                                                                 \n",
      "=================================================================\n",
      "Total params: 75,051\n",
      "Trainable params: 75,051\n",
      "Non-trainable params: 0\n",
      "_________________________________________________________________\n",
      "None\n"
     ]
    }
   ],
   "source": [
    "# build the network\n",
    "# Feature weights\n",
    "nb_features = seq_array.shape[2]\n",
    "nb_out = label_array.shape[1]\n",
    "\n",
    "# LSTM model\n",
    "model = Sequential()\n",
    "\n",
    "# The first layer\n",
    "model.add(LSTM(\n",
    "         input_shape=(sequence_length, nb_features),\n",
    "         units=100,\n",
    "         return_sequences=True))\n",
    "\n",
    "# Plus a 20% dropout rate\n",
    "model.add(Dropout(0.2))\n",
    "\n",
    "# The second layer\n",
    "model.add(LSTM(\n",
    "          units=50,\n",
    "          return_sequences=False))\n",
    "\n",
    "# Plus a 20% dropout rate\n",
    "model.add(Dropout(0.2))\n",
    "\n",
    "# Dense sigmoid layer\n",
    "model.add(Dense(units=nb_out, activation='sigmoid'))\n",
    "\n",
    "# With adam optimizer and a binary crossentropy loss. We will opimize for model accuracy.\n",
    "model.compile(loss='binary_crossentropy', optimizer='adam', metrics=['accuracy'])\n",
    "\n",
    "# Verify the architecture \n",
    "print(model.summary())"
   ]
  },
  {
   "cell_type": "markdown",
   "metadata": {},
   "source": [
    "## 7. Training"
   ]
  },
  {
   "cell_type": "code",
   "execution_count": 38,
   "metadata": {},
   "outputs": [
    {
     "name": "stdout",
     "output_type": "stream",
     "text": [
      "Epoch 1/20\n",
      "298/298 [==============================] - 9s 17ms/step - loss: 0.0203 - accuracy: 0.9926 - val_loss: 0.0039 - val_accuracy: 0.9985\n",
      "Epoch 2/20\n",
      "298/298 [==============================] - 6s 19ms/step - loss: 0.0020 - accuracy: 0.9994 - val_loss: 0.0019 - val_accuracy: 0.9999\n",
      "Epoch 3/20\n",
      "298/298 [==============================] - 5s 16ms/step - loss: 0.0018 - accuracy: 0.9994 - val_loss: 0.0018 - val_accuracy: 0.9998\n",
      "Epoch 4/20\n",
      "298/298 [==============================] - 5s 16ms/step - loss: 0.0016 - accuracy: 0.9997 - val_loss: 0.0012 - val_accuracy: 0.9999\n",
      "Epoch 5/20\n",
      "298/298 [==============================] - 5s 16ms/step - loss: 0.0010 - accuracy: 0.9997 - val_loss: 0.0012 - val_accuracy: 0.9998\n",
      "Epoch 6/20\n",
      "298/298 [==============================] - 5s 16ms/step - loss: 9.0943e-04 - accuracy: 0.9998 - val_loss: 6.8645e-04 - val_accuracy: 0.9999\n",
      "Epoch 7/20\n",
      "298/298 [==============================] - 5s 17ms/step - loss: 6.6259e-04 - accuracy: 0.9999 - val_loss: 0.0018 - val_accuracy: 0.9987\n",
      "Epoch 8/20\n",
      "298/298 [==============================] - 5s 16ms/step - loss: 9.7381e-04 - accuracy: 0.9996 - val_loss: 5.7805e-04 - val_accuracy: 0.9999\n",
      "Epoch 9/20\n",
      "298/298 [==============================] - 5s 17ms/step - loss: 4.6812e-04 - accuracy: 0.9999 - val_loss: 4.3202e-04 - val_accuracy: 0.9999\n",
      "Epoch 10/20\n",
      "298/298 [==============================] - 4s 14ms/step - loss: 4.9290e-04 - accuracy: 0.9999 - val_loss: 0.0027 - val_accuracy: 0.9987\n",
      "Epoch 11/20\n",
      "298/298 [==============================] - 5s 16ms/step - loss: 9.3724e-04 - accuracy: 0.9998 - val_loss: 4.2614e-04 - val_accuracy: 0.9999\n",
      "Epoch 12/20\n",
      "298/298 [==============================] - 4s 14ms/step - loss: 4.9644e-04 - accuracy: 0.9999 - val_loss: 3.0190e-04 - val_accuracy: 0.9999\n",
      "Epoch 13/20\n",
      "298/298 [==============================] - 4s 14ms/step - loss: 6.8296e-04 - accuracy: 0.9999 - val_loss: 3.8524e-04 - val_accuracy: 0.9999\n",
      "Epoch 14/20\n",
      "298/298 [==============================] - 4s 14ms/step - loss: 2.7846e-04 - accuracy: 1.0000 - val_loss: 1.9185e-04 - val_accuracy: 0.9999\n",
      "Epoch 15/20\n",
      "298/298 [==============================] - 4s 14ms/step - loss: 4.5452e-04 - accuracy: 0.9999 - val_loss: 6.9452e-04 - val_accuracy: 0.9999\n",
      "Epoch 16/20\n",
      "298/298 [==============================] - 4s 14ms/step - loss: 3.0957e-04 - accuracy: 1.0000 - val_loss: 5.9543e-05 - val_accuracy: 1.0000\n",
      "Epoch 17/20\n",
      "298/298 [==============================] - 4s 15ms/step - loss: 9.7271e-04 - accuracy: 0.9997 - val_loss: 2.3129e-04 - val_accuracy: 0.9999\n",
      "Epoch 18/20\n",
      "298/298 [==============================] - 4s 14ms/step - loss: 2.6639e-04 - accuracy: 1.0000 - val_loss: 1.2045e-04 - val_accuracy: 0.9999\n",
      "Wall time: 1min 27s\n"
     ]
    },
    {
     "data": {
      "text/plain": [
       "<keras.callbacks.History at 0x1d145ddca60>"
      ]
     },
     "execution_count": 38,
     "metadata": {},
     "output_type": "execute_result"
    }
   ],
   "source": [
    "%%time\n",
    "# fit the network\n",
    "model.fit(seq_array, # Training features\n",
    "          label_array, # Training labels\n",
    "          epochs=20,   # We'll stop after 10 epochs\n",
    "          batch_size=200, # \n",
    "          validation_split=0.20, # Use 10% of data to evaluate the loss. (val_loss)\n",
    "          verbose=1, #\n",
    "          callbacks = [keras.callbacks.EarlyStopping(monitor='val_loss', # Monitor the validation loss\n",
    "                                                     min_delta=0,    # until it doesn't change (or gets worse)\n",
    "                                                     patience=2,  # patience > 1 so it continutes if it is not consistently improving\n",
    "                                                     verbose=0, \n",
    "                                                     mode='auto')]) "
   ]
  },
  {
   "cell_type": "code",
   "execution_count": 39,
   "metadata": {},
   "outputs": [
    {
     "name": "stdout",
     "output_type": "stream",
     "text": [
      "372/372 [==============================] - 2s 6ms/step - loss: 1.7422e-04 - accuracy: 1.0000\n",
      "Training Accurracy: 0.9999731183052063\n"
     ]
    }
   ],
   "source": [
    "# training metrics\n",
    "scores = model.evaluate(seq_array, label_array, verbose=1, batch_size=200)\n",
    "print('Training Accurracy: {}'.format(scores[1]))\n",
    "\n"
   ]
  },
  {
   "cell_type": "code",
   "execution_count": 40,
   "metadata": {},
   "outputs": [
    {
     "name": "stdout",
     "output_type": "stream",
     "text": [
      "372/372 [==============================] - 2s 4ms/step\n",
      "Training Confusion matrix\n",
      "- x-axis is true labels.\n",
      "- y-axis is predicted labels\n"
     ]
    },
    {
     "data": {
      "text/plain": [
       "array([[73948,     0],\n",
       "       [    2,   390]], dtype=int64)"
      ]
     },
     "execution_count": 40,
     "metadata": {},
     "output_type": "execute_result"
    }
   ],
   "source": [
    "# make predictions and compute confusion matrix\n",
    "\n",
    "y_pred = (model.predict(seq_array,verbose=1, batch_size=200) > 0.5).astype(\"int32\")\n",
    "\n",
    "y_true = label_array\n",
    "\n",
    "print('Training Confusion matrix\\n- x-axis is true labels.\\n- y-axis is predicted labels')\n",
    "cm = confusion_matrix(y_true, y_pred)\n",
    "cm"
   ]
  },
  {
   "cell_type": "code",
   "execution_count": 41,
   "metadata": {},
   "outputs": [
    {
     "name": "stdout",
     "output_type": "stream",
     "text": [
      "Training Precision:  1.0 \n",
      " Training Recall:  0.9948979591836735 \n",
      " Training F1 Score: 0.9974424552429668\n"
     ]
    }
   ],
   "source": [
    "# compute precision and recall\n",
    "precision = precision_score(y_true, y_pred)\n",
    "recall = recall_score(y_true, y_pred)\n",
    "f1 = 2 * (precision * recall) / (precision + recall)\n",
    "print( 'Training Precision: ', precision, '\\n', 'Training Recall: ', recall, '\\n', 'Training F1 Score:', f1)\n"
   ]
  },
  {
   "cell_type": "markdown",
   "metadata": {},
   "source": [
    "## 8. Testing and evaluation"
   ]
  },
  {
   "cell_type": "code",
   "execution_count": 42,
   "metadata": {},
   "outputs": [
    {
     "data": {
      "text/plain": [
       "(238, 10, 11)"
      ]
     },
     "execution_count": 42,
     "metadata": {},
     "output_type": "execute_result"
    }
   ],
   "source": [
    "seq_array_test_last = [test_df[test_df['machine']==id][sequence_cols].values[-sequence_length:] \n",
    "                       for id in test_df['machine'].unique() if len(test_df[test_df['machine']==id]) >= sequence_length]\n",
    "\n",
    "seq_array_test_last = np.asarray(seq_array_test_last).astype(np.float32)\n",
    "seq_array_test_last.shape"
   ]
  },
  {
   "cell_type": "code",
   "execution_count": 43,
   "metadata": {},
   "outputs": [
    {
     "name": "stdout",
     "output_type": "stream",
     "text": [
      "(238, 10, 11)\n",
      "(238, 1)\n"
     ]
    }
   ],
   "source": [
    "# y_mask is to filter out machinces where the sequence is bigger than the real observation time. \n",
    "y_mask = [len(test_df[test_df['machine']==id]) >= sequence_length for id in test_df['machine'].unique()]\n",
    "\n",
    "label_array_test_last = test_df.groupby('machine')['label1'].nth(-1)[y_mask].values\n",
    "label_array_test_last = label_array_test_last.reshape(label_array_test_last.shape[0],1).astype(np.float32)\n",
    "\n",
    "print(seq_array_test_last.shape)\n",
    "print(label_array_test_last.shape)"
   ]
  },
  {
   "cell_type": "code",
   "execution_count": 44,
   "metadata": {},
   "outputs": [
    {
     "name": "stdout",
     "output_type": "stream",
     "text": [
      "8/8 - 0s - loss: 3.0996e-05 - accuracy: 1.0000 - 56ms/epoch - 7ms/step\n",
      "Test Accurracy: 1.0\n"
     ]
    }
   ],
   "source": [
    "# test metrics\n",
    "scores_test = model.evaluate(seq_array_test_last, label_array_test_last, verbose=2)\n",
    "print('Test Accurracy: {}'.format(scores_test[1]))\n"
   ]
  },
  {
   "cell_type": "code",
   "execution_count": 45,
   "metadata": {},
   "outputs": [
    {
     "name": "stdout",
     "output_type": "stream",
     "text": [
      "(238, 10, 11)\n",
      "2/2 [==============================] - 0s 6ms/step\n",
      "y_pred_test.shape:  (238, 1)\n",
      "y_true_test.shape:  (238, 1)\n",
      "Confusion matrix\n",
      "- x-axis is true labels.\n",
      "- y-axis is predicted labels\n",
      "[[205   0]\n",
      " [  0  33]]\n"
     ]
    }
   ],
   "source": [
    "# make predictions and compute confusion matrix\n",
    "print(seq_array_test_last.shape)\n",
    "#print('seq_array_test_last =', seq_array_test_last)\n",
    "y_pred_test = (model.predict(seq_array_test_last,verbose=1, batch_size=200) > 0.5).astype(\"int32\")\n",
    "print('y_pred_test.shape: ', y_pred_test.shape)\n",
    "\n",
    "y_true_test = label_array_test_last\n",
    "print('y_true_test.shape: ', y_true_test.shape)\n",
    "print('Confusion matrix\\n- x-axis is true labels.\\n- y-axis is predicted labels')\n",
    "cm = confusion_matrix(y_true_test, y_pred_test)\n",
    "print(cm)"
   ]
  },
  {
   "cell_type": "code",
   "execution_count": 46,
   "metadata": {},
   "outputs": [
    {
     "name": "stdout",
     "output_type": "stream",
     "text": [
      "Test Precision:  1.0 \n",
      " Test Recall:  1.0 \n",
      " Test F1 Score: 1.0\n"
     ]
    }
   ],
   "source": [
    "# compute precision and recall\n",
    "precision_test = precision_score(y_true_test, y_pred_test)\n",
    "recall_test = recall_score(y_true_test, y_pred_test)\n",
    "f1_test = 2 * (precision_test * recall_test) / (precision_test + recall_test)\n",
    "print( 'Test Precision: ', precision_test, '\\n', 'Test Recall: ', recall_test, '\\n', 'Test F1 Score:', f1_test)\n"
   ]
  },
  {
   "cell_type": "code",
   "execution_count": 47,
   "metadata": {},
   "outputs": [
    {
     "data": {
      "text/plain": [
       "[<matplotlib.lines.Line2D at 0x1d13ecfac70>]"
      ]
     },
     "execution_count": 47,
     "metadata": {},
     "output_type": "execute_result"
    },
    {
     "data": {
      "image/png": "[encoded data removed]",
      "text/plain": [
       "<Figure size 432x288 with 1 Axes>"
      ]
     },
     "metadata": {
      "needs_background": "light"
     },
     "output_type": "display_data"
    }
   ],
   "source": [
    "plt.plot(y_true_test, c='green')"
   ]
  },
  {
   "cell_type": "code",
   "execution_count": 48,
   "metadata": {},
   "outputs": [
    {
     "data": {
      "text/plain": [
       "[<matplotlib.lines.Line2D at 0x1d13e9b1580>]"
      ]
     },
     "execution_count": 48,
     "metadata": {},
     "output_type": "execute_result"
    },
    {
     "data": {
      "image/png": "[encoded data removed]",
      "text/plain": [
       "<Figure size 432x288 with 1 Axes>"
      ]
     },
     "metadata": {
      "needs_background": "light"
     },
     "output_type": "display_data"
    }
   ],
   "source": [
    "plt.plot(y_pred_test, c='blue')"
   ]
  },
  {
   "cell_type": "markdown",
   "metadata": {},
   "source": [
    "## Thank you"
   ]
  }
 ],
 "metadata": {
  "kernelspec": {
   "display_name": "Python 3 (ipykernel)",
   "language": "python",
   "name": "python3"
  },
  "language_info": {
   "codemirror_mode": {
    "name": "ipython",
    "version": 3
   },
   "file_extension": ".py",
   "mimetype": "text/x-python",
   "name": "python",
   "nbconvert_exporter": "python",
   "pygments_lexer": "ipython3",
   "version": "3.9.7"
  }
 },
 "nbformat": 4,
 "nbformat_minor": 4
}
